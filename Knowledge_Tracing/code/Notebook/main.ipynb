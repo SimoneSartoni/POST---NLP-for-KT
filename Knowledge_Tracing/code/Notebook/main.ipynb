{
 "cells": [
  {
   "cell_type": "code",
   "execution_count": null,
   "metadata": {
    "collapsed": true
   },
   "outputs": [],
   "source": [
    "import subprocess\n",
    "def git(*args):\n",
    "    return subprocess.check_call(['git'] + list(args))\n",
    "\n",
    "\n",
    "git(\"clone\", \"https://github.com/SimoneSartoni/TransformersForKnowledgeTracing.git\")\n",
    "\n",
    "def cp(*args):\n",
    "    return subprocess.check_call(['cp'] + list(args))\n",
    "!cp -r ./TransformersForKnowledgeTracing/Knowledge_Tracing/code/* ./"
   ]
  },
  {
   "cell_type": "code",
   "execution_count": null,
   "outputs": [],
   "source": [
    "from data_processing.data_processing import *\n",
    "from evaluation import *\n",
    "from models import *\n",
    "\n",
    "\n"
   ],
   "metadata": {
    "collapsed": false,
    "pycharm": {
     "name": "#%%\n"
    }
   }
  }
 ],
 "metadata": {
  "kernelspec": {
   "display_name": "Python 3",
   "language": "python",
   "name": "python3"
  },
  "language_info": {
   "codemirror_mode": {
    "name": "ipython",
    "version": 2
   },
   "file_extension": ".py",
   "mimetype": "text/x-python",
   "name": "python",
   "nbconvert_exporter": "python",
   "pygments_lexer": "ipython2",
   "version": "2.7.6"
  }
 },
 "nbformat": 4,
 "nbformat_minor": 0
}