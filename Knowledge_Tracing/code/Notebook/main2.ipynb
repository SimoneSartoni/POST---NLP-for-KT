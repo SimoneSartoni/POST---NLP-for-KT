{
 "cells": [
  {
   "cell_type": "code",
   "execution_count": 1,
   "metadata": {
    "pycharm": {
     "is_executing": true,
     "name": "#%%\n"
    }
   },
   "outputs": [],
   "source": [
    "from Knowledge_Tracing.code.data_processing.dataset import dataset\n",
    "from Knowledge_Tracing.code.data_processing.import_files import import_questions_text, import_assistments_interactions, \\\n",
    "    import_junyi_interactions, import_poj_interactions\n",
    "\n",
    "from Knowledge_Tracing.code.data_processing.data_processing import assistments_process_bodies, poj_process_bodies, \\\n",
    "    junyi_process_questions, \\\n",
    "    generate_text_and_interacted_sets\n",
    "from Knowledge_Tracing.code.models.TF_IDF import TF_IDF\n",
    "from Knowledge_Tracing.code.utils.utils import write_txt\n",
    "from Knowledge_Tracing.code.evaluation.predictor import predictor as Predictor\n",
    "from Knowledge_Tracing.code.evaluation.evaluation import evaluator as Evaluator\n",
    "from Knowledge_Tracing.code.evaluation.balanced_accuracy import balanced_accuracy\n",
    "\n",
    "\n",
    "def import_text():\n",
    "    assistment_df = dataset(name=\"assistments_texts\",\n",
    "                            path=\"C:/Users/Simone Sartoni/Simone/Universita/5anno/thesis_2\"\n",
    "                                 \"/TransformersForKnowledgeTracing/Knowledge_Tracing/data/Assistments/problem_bodies\"\n",
    "                                 \"/ASSISTments2012DataSet-ProblemBodies.csv\")\n",
    "    junyi_df = dataset(name=\"junyi_texts\",\n",
    "                       path=\"C:/Users/Simone Sartoni/Simone/Universita/5anno/thesis_2\"\n",
    "                            \"/TransformersForKnowledgeTracing/Knowledge_Tracing/data/Junyi/junyi_question_text\"\n",
    "                            \".txt\")\n",
    "    poj_df = dataset(name=\"poj_texts\",\n",
    "                     path=\"C:/Users/Simone Sartoni/Simone/Universita/5anno/thesis_2\"\n",
    "                          \"/TransformersForKnowledgeTracing/Knowledge_Tracing/data/poj/poj_question_text.txt\")\n",
    "    datasets_dict = [assistment_df, junyi_df, poj_df]\n",
    "    datasets = import_questions_text(datasets_dict)\n",
    "    return datasets\n",
    "\n",
    "\n",
    "def tf_idf_evaluation(dataset):\n",
    "    tf_idf = TF_IDF()\n",
    "    tf_idf.fit(dataset.texts)\n",
    "    tf_idf.compute_similarity()\n",
    "    similarity_matrix = tf_idf.similarity_matrix\n",
    "    models = [tf_idf]\n",
    "    predictor = Predictor()\n",
    "    labels, predictions = predictor.compute_predictions(dataset=dataset, models=models)\n",
    "    metrics = [balanced_accuracy(name=\"balanced_accuracy\")]\n",
    "    evaluator = Evaluator(\"Evaluator\", metrics)\n",
    "    return evaluator.evaluate(labels, models, predictions)"
   ]
  },
  {
   "cell_type": "code",
   "execution_count": null,
   "metadata": {
    "colab": {
     "base_uri": "https://localhost:8080/",
     "height": 384
    },
    "id": "N4k0mNTR7BGL",
    "outputId": "89a2290d-e7b3-40a6-f2c3-c5e206bf50d0"
   },
   "outputs": [],
   "source": [
    "# import text of POJ (needed to import its interactions)\n",
    "datasets = import_text()\n",
    "\n",
    "# import interaction datasets\n",
    "assistment_dataset = import_assistments_interactions()\n",
    "junyi_dataset = import_junyi_interactions()\n",
    "poj_dataset = import_poj_interactions()\n",
    "\n",
    "# import assistment texts dataset\n",
    "texts, problem_id_to_index = assistments_process_bodies(datasets[\"assistments_texts\"])\n",
    "problem_ids = problem_id_to_index.keys()\n",
    "# produces set of problems according to data available\n",
    "problems_with_text_set, problems_interacted_set, problems_text_and_interacted_set = \\\n",
    "    generate_text_and_interacted_sets(problem_ids, assistment_dataset.problems)\n",
    "assistment_dataset.set_texts(texts, problem_id_to_index, problems_with_text_set, problems_interacted_set,\n",
    "                             problems_text_and_interacted_set)\n",
    "\n",
    "# import junyi texts dataset\n",
    "texts, problem_id_to_index = junyi_process_questions(datasets[\"junyi_texts\"])\n",
    "problem_ids = problem_id_to_index.keys()\n",
    "# produces set of problems according to data available\n",
    "problems_with_text_set, problems_interacted_set, problems_text_and_interacted_set = \\\n",
    "    generate_text_and_interacted_sets(problem_ids, junyi_dataset.problems)\n",
    "junyi_dataset.set_texts(texts, problem_id_to_index, problems_with_text_set, problems_interacted_set,\n",
    "                        problems_text_and_interacted_set)\n",
    "\n",
    "#import poj texts dataset\n",
    "texts, problem_id_to_index = poj_process_bodies(datasets[\"poj_texts\"])\n",
    "problem_ids = problem_id_to_index.keys()\n",
    "# produces set of problems according to data available\n",
    "problems_with_text_set, problems_interacted_set, problems_text_and_interacted_set = \\\n",
    "    generate_text_and_interacted_sets(problem_ids, poj_dataset.problems)\n",
    "poj_dataset.set_texts(texts, problem_id_to_index, problems_with_text_set, problems_interacted_set,\n",
    "                      problems_text_and_interacted_set)\n",
    "\n",
    "assistment_dataset.set_performances(tf_idf_evaluation(assistment_dataset))\n",
    "junyi_dataset.set_performances(tf_idf_evaluation(junyi_dataset))\n",
    "poj_dataset.set_performances(tf_idf_evaluation(poj_dataset))\n",
    "\n",
    "assistment_dataset.write_dataset_info()\n",
    "junyi_dataset.write_dataset_info()\n",
    "poj_dataset.write_dataset_info()\n",
    "\n"
   ]
  }
 ],
 "metadata": {
  "colab": {
   "collapsed_sections": [],
   "name": "main.ipynb",
   "provenance": []
  },
  "kernelspec": {
   "display_name": "Python 3 (ipykernel)",
   "language": "python",
   "name": "python3"
  },
  "language_info": {
   "codemirror_mode": {
    "name": "ipython",
    "version": 3
   },
   "file_extension": ".py",
   "mimetype": "text/x-python",
   "name": "python",
   "nbconvert_exporter": "python",
   "pygments_lexer": "ipython3",
   "version": "3.9.5"
  }
 },
 "nbformat": 4,
 "nbformat_minor": 1
}